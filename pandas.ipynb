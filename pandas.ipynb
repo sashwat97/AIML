{
  "nbformat": 4,
  "nbformat_minor": 0,
  "metadata": {
    "colab": {
      "provenance": []
    },
    "kernelspec": {
      "name": "python3",
      "display_name": "Python 3"
    },
    "language_info": {
      "name": "python"
    }
  },
  "cells": [
    {
      "cell_type": "code",
      "execution_count": 1,
      "metadata": {
        "colab": {
          "base_uri": "https://localhost:8080/"
        },
        "id": "NodWlzdWoVzY",
        "outputId": "1de60ef0-c99f-4ad9-e5f8-1677b8b2c2a5"
      },
      "outputs": [
        {
          "output_type": "stream",
          "name": "stdout",
          "text": [
            "      Name  Age         City\n",
            "0    Alice   24     New York\n",
            "1      Bob   27  Los Angeles\n",
            "2  Charlie   22      Chicago\n",
            "3    David   32      Houston\n"
          ]
        }
      ],
      "source": [
        "import pandas as pd\n",
        "\n",
        "# Creating a simple DataFrame\n",
        "data = {\n",
        "    'Name': ['Alice', 'Bob', 'Charlie', 'David'],\n",
        "    'Age': [24, 27, 22, 32],\n",
        "    'City': ['New York', 'Los Angeles', 'Chicago', 'Houston']\n",
        "}\n",
        "\n",
        "df = pd.DataFrame(data)\n",
        "\n",
        "print(df)\n"
      ]
    },
    {
      "cell_type": "code",
      "source": [],
      "metadata": {
        "id": "6hZoMDInrUtv"
      },
      "execution_count": null,
      "outputs": []
    },
    {
      "cell_type": "code",
      "source": [
        "# Selecting a column\n",
        "ages = df['Age']\n",
        "print(ages)\n",
        "\n",
        "# Selecting multiple columns\n",
        "subset = df[['Name', 'City']]\n",
        "print(subset)\n",
        "\n",
        "# Filtering rows based on a condition\n",
        "filtered_df = df[df['Age'] > 25]\n",
        "print(filtered_df)\n"
      ],
      "metadata": {
        "colab": {
          "base_uri": "https://localhost:8080/"
        },
        "id": "KY2I7jNDomBs",
        "outputId": "41b65aea-9900-46f0-a2c3-299626871556"
      },
      "execution_count": 2,
      "outputs": [
        {
          "output_type": "stream",
          "name": "stdout",
          "text": [
            "0    24\n",
            "1    27\n",
            "2    22\n",
            "3    32\n",
            "Name: Age, dtype: int64\n",
            "      Name         City\n",
            "0    Alice     New York\n",
            "1      Bob  Los Angeles\n",
            "2  Charlie      Chicago\n",
            "3    David      Houston\n",
            "    Name  Age         City\n",
            "1    Bob   27  Los Angeles\n",
            "3  David   32      Houston\n"
          ]
        }
      ]
    },
    {
      "cell_type": "code",
      "source": [
        "# Grouping by a column and calculating the mean of another column\n",
        "grouped_df = df.groupby('City')['Age'].mean()\n",
        "print(grouped_df)\n"
      ],
      "metadata": {
        "colab": {
          "base_uri": "https://localhost:8080/"
        },
        "id": "KEfYzVEXowpP",
        "outputId": "3b65233d-7201-446e-fbc9-68256b93b0e5"
      },
      "execution_count": 3,
      "outputs": [
        {
          "output_type": "stream",
          "name": "stdout",
          "text": [
            "City\n",
            "Chicago        22.0\n",
            "Houston        32.0\n",
            "Los Angeles    27.0\n",
            "New York       24.0\n",
            "Name: Age, dtype: float64\n"
          ]
        }
      ]
    },
    {
      "cell_type": "code",
      "source": [
        "# Checking for missing data\n",
        "print(df.isnull().sum())\n",
        "\n",
        "# Dropping rows with missing data\n",
        "df_cleaned = df.dropna()\n",
        "\n",
        "# Filling missing data with a specific value\n",
        "df_filled = df.fillna(0)\n"
      ],
      "metadata": {
        "colab": {
          "base_uri": "https://localhost:8080/"
        },
        "id": "MeHXYiy2owsj",
        "outputId": "e0713552-fd1a-4e99-b3ab-3ec7a5e2d5d6"
      },
      "execution_count": 4,
      "outputs": [
        {
          "output_type": "stream",
          "name": "stdout",
          "text": [
            "Name    0\n",
            "Age     0\n",
            "City    0\n",
            "dtype: int64\n"
          ]
        }
      ]
    },
    {
      "cell_type": "code",
      "source": [
        "# Creating another DataFrame for merging\n",
        "data2 = {\n",
        "    'Name': ['Alice', 'Bob', 'Charlie', 'Eve'],\n",
        "    'Salary': [50000, 60000, 55000, 70000]\n",
        "}\n",
        "\n",
        "df2 = pd.DataFrame(data2)\n",
        "\n",
        "# Merging DataFrames on a common column\n",
        "merged_df = pd.merge(df, df2, on='Name', how='inner')\n",
        "print(merged_df)\n",
        "\n"
      ],
      "metadata": {
        "colab": {
          "base_uri": "https://localhost:8080/"
        },
        "id": "ENiEBM1do3pL",
        "outputId": "d8d69c01-3c41-49ef-9749-1d7dd52e63c1"
      },
      "execution_count": 6,
      "outputs": [
        {
          "output_type": "stream",
          "name": "stdout",
          "text": [
            "      Name  Age         City  Salary\n",
            "0    Alice   24     New York   50000\n",
            "1      Bob   27  Los Angeles   60000\n",
            "2  Charlie   22      Chicago   55000\n"
          ]
        }
      ]
    },
    {
      "cell_type": "code",
      "source": [
        "# Applying a custom function to a column\n",
        "df['Age_Squared'] = df['Age'].apply(lambda x: x ** 2)\n",
        "print(df)\n"
      ],
      "metadata": {
        "colab": {
          "base_uri": "https://localhost:8080/"
        },
        "id": "oHmKtuhTpBQC",
        "outputId": "e873304f-2a74-472a-db3d-ffe48a05db71"
      },
      "execution_count": 7,
      "outputs": [
        {
          "output_type": "stream",
          "name": "stdout",
          "text": [
            "      Name  Age         City  Age_Squared\n",
            "0    Alice   24     New York          576\n",
            "1      Bob   27  Los Angeles          729\n",
            "2  Charlie   22      Chicago          484\n",
            "3    David   32      Houston         1024\n"
          ]
        }
      ]
    }
  ]
}